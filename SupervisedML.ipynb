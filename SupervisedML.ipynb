{
 "cells": [
  {
   "cell_type": "markdown",
   "id": "46ca0dd2",
   "metadata": {},
   "source": [
    "# Vishva Rana\n",
    "# Prediction using Supervised ML"
   ]
  },
  {
   "cell_type": "code",
   "execution_count": null,
   "id": "91d50e3a",
   "metadata": {},
   "outputs": [],
   "source": [
    "import numpy as np\n",
    "import pandas as pd\n",
    "import matplotlib.pyplot as plt"
   ]
  },
  {
   "cell_type": "markdown",
   "id": "3532e6c7",
   "metadata": {},
   "source": [
    "# Reading the downloaded dataset"
   ]
  },
  {
   "cell_type": "code",
   "execution_count": null,
   "id": "70fe18b5",
   "metadata": {},
   "outputs": [],
   "source": [
    "data=pd.read_csv(\"student_scores - student_scores.csv\")\n",
    "data.head(10)"
   ]
  },
  {
   "cell_type": "markdown",
   "id": "3945526c",
   "metadata": {},
   "source": [
    "# Plotting the graph according to our dataset"
   ]
  },
  {
   "cell_type": "code",
   "execution_count": null,
   "id": "75003901",
   "metadata": {},
   "outputs": [],
   "source": [
    "data.plot(x='Hours',y='Scores',style='o')\n",
    "plt.title('Studying hours vs Scores')\n",
    "plt.xlabel('Studying hours per day')\n",
    "plt.ylabel('Scores out of 100')\n",
    "plt.show()"
   ]
  },
  {
   "cell_type": "code",
   "execution_count": null,
   "id": "c82977b5",
   "metadata": {},
   "outputs": [],
   "source": [
    "X = data.iloc[:, :-1].values\n",
    "#print(X)\n",
    "Y = data.iloc[:, 1].values\n",
    "#print(Y)"
   ]
  },
  {
   "cell_type": "markdown",
   "id": "0a0be6b1",
   "metadata": {},
   "source": [
    "# Splitting the model into training and testing sets"
   ]
  },
  {
   "cell_type": "code",
   "execution_count": null,
   "id": "c5e3254b",
   "metadata": {},
   "outputs": [],
   "source": [
    "from sklearn.model_selection import train_test_split\n",
    "X_train, X_test, Y_train, Y_test = train_test_split(X, Y, test_size=0.2,random_state=0) \n",
    "#print(X_train)\n",
    "#print(X_test)\n",
    "#print(Y_train)\n",
    "#print(Y_test)"
   ]
  },
  {
   "cell_type": "markdown",
   "id": "1fde6836",
   "metadata": {},
   "source": [
    "# Training the model"
   ]
  },
  {
   "cell_type": "code",
   "execution_count": null,
   "id": "1d875c02",
   "metadata": {},
   "outputs": [],
   "source": [
    "from sklearn.linear_model import LinearRegression\n",
    "model=LinearRegression()\n",
    "model.fit(X_train,Y_train)"
   ]
  },
  {
   "cell_type": "code",
   "execution_count": null,
   "id": "9ccc53b0",
   "metadata": {},
   "outputs": [],
   "source": [
    "#Plotting the regression line \n",
    "line = model.coef_*X + model.intercept_ #y=mx+c\n",
    "\n",
    "#Plotting our data to know the variation\n",
    "plt.scatter(X,Y)\n",
    "plt.plot(X,line)\n",
    "plt.show()"
   ]
  },
  {
   "cell_type": "markdown",
   "id": "50ff74b1",
   "metadata": {},
   "source": [
    "# Predictions using the trained algorithm"
   ]
  },
  {
   "cell_type": "code",
   "execution_count": null,
   "id": "94af47bc",
   "metadata": {},
   "outputs": [],
   "source": [
    "print(X_test)\n",
    "Y_pred=model.predict(X_test)\n",
    "print(Y_pred)"
   ]
  },
  {
   "cell_type": "markdown",
   "id": "c06ad2a6",
   "metadata": {},
   "source": [
    "# Comparing the predictions"
   ]
  },
  {
   "cell_type": "code",
   "execution_count": null,
   "id": "e3b0e77c",
   "metadata": {},
   "outputs": [],
   "source": [
    "df = pd.DataFrame({'Actual' : Y_test,'Predicted' : Y_pred})\n",
    "df"
   ]
  },
  {
   "cell_type": "code",
   "execution_count": null,
   "id": "31dc8d1f",
   "metadata": {},
   "outputs": [],
   "source": [
    "testarr=np.array([5.6,7.8])\n",
    "pred=model.predict(testarr.reshape(-1,1))\n",
    "print(\"Hours studied = {}\".format(testarr))\n",
    "print(\"Predicted score = {}\".format(pred))"
   ]
  },
  {
   "cell_type": "markdown",
   "id": "b03dc7b8",
   "metadata": {},
   "source": [
    "# Finally checking the avg. error in predicted scores"
   ]
  },
  {
   "cell_type": "code",
   "execution_count": null,
   "id": "80bcfa1b",
   "metadata": {},
   "outputs": [],
   "source": [
    "from sklearn import metrics\n",
    "print('Avg. error in predicting score =',metrics.mean_absolute_error(Y_test,Y_pred))"
   ]
  }
 ],
 "metadata": {
  "kernelspec": {
   "display_name": "Python 3",
   "language": "python",
   "name": "python3"
  },
  "language_info": {
   "codemirror_mode": {
    "name": "ipython",
    "version": 3
   },
   "file_extension": ".py",
   "mimetype": "text/x-python",
   "name": "python",
   "nbconvert_exporter": "python",
   "pygments_lexer": "ipython3",
   "version": "3.8.8"
  }
 },
 "nbformat": 4,
 "nbformat_minor": 5
}
